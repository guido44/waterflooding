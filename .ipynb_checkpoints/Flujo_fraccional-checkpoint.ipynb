{
 "cells": [
  {
   "cell_type": "code",
   "execution_count": 5,
   "metadata": {},
   "outputs": [
    {
     "name": "stdout",
     "output_type": "stream",
     "text": [
      "Ingrese Swi\n",
      "0.363\n"
     ]
    }
   ],
   "source": [
    "print(\"Ingrese Swi\")\n",
    "Swi=float(input())"
   ]
  },
  {
   "cell_type": "code",
   "execution_count": 7,
   "metadata": {},
   "outputs": [
    {
     "name": "stdout",
     "output_type": "stream",
     "text": [
      "0.363\n"
     ]
    }
   ],
   "source": [
    "print(Swi)"
   ]
  },
  {
   "cell_type": "code",
   "execution_count": 8,
   "metadata": {},
   "outputs": [
    {
     "name": "stdout",
     "output_type": "stream",
     "text": [
      "Ingrese Sor\n",
      "0.205\n"
     ]
    }
   ],
   "source": [
    "print(\"Ingrese Sor\")\n",
    "Sor=float(input())"
   ]
  },
  {
   "cell_type": "code",
   "execution_count": 9,
   "metadata": {},
   "outputs": [
    {
     "name": "stdout",
     "output_type": "stream",
     "text": [
      "0.205\n"
     ]
    }
   ],
   "source": [
    "print(Sor)"
   ]
  },
  {
   "cell_type": "code",
   "execution_count": 12,
   "metadata": {},
   "outputs": [
    {
     "name": "stdout",
     "output_type": "stream",
     "text": [
      "Ingrese uo en cp\n",
      "2\n"
     ]
    }
   ],
   "source": [
    "print(\"Ingrese uo en cp\")\n",
    "uo=float(input())"
   ]
  },
  {
   "cell_type": "code",
   "execution_count": 13,
   "metadata": {},
   "outputs": [
    {
     "name": "stdout",
     "output_type": "stream",
     "text": [
      "2.0\n"
     ]
    }
   ],
   "source": [
    "print(uo)"
   ]
  },
  {
   "cell_type": "code",
   "execution_count": 14,
   "metadata": {},
   "outputs": [
    {
     "name": "stdout",
     "output_type": "stream",
     "text": [
      "Ingrese uw en cp\n",
      "1\n"
     ]
    }
   ],
   "source": [
    "print(\"Ingrese uw en cp\")\n",
    "uw=float(input())"
   ]
  },
  {
   "cell_type": "code",
   "execution_count": 15,
   "metadata": {},
   "outputs": [
    {
     "name": "stdout",
     "output_type": "stream",
     "text": [
      "1.0\n"
     ]
    }
   ],
   "source": [
    "print(uw)"
   ]
  },
  {
   "cell_type": "code",
   "execution_count": 16,
   "metadata": {},
   "outputs": [],
   "source": [
    "import numpy as np\n",
    "sw=np.linspace(Swi,1-Sor,24)"
   ]
  },
  {
   "cell_type": "code",
   "execution_count": 17,
   "metadata": {
    "scrolled": true
   },
   "outputs": [
    {
     "name": "stdout",
     "output_type": "stream",
     "text": [
      "[0.363      0.38178261 0.40056522 0.41934783 0.43813043 0.45691304\n",
      " 0.47569565 0.49447826 0.51326087 0.53204348 0.55082609 0.5696087\n",
      " 0.5883913  0.60717391 0.62595652 0.64473913 0.66352174 0.68230435\n",
      " 0.70108696 0.71986957 0.73865217 0.75743478 0.77621739 0.795     ]\n"
     ]
    }
   ],
   "source": [
    "print(sw)"
   ]
  },
  {
   "cell_type": "code",
   "execution_count": 18,
   "metadata": {},
   "outputs": [],
   "source": [
    "swd=(sw-Swi)/(1-Sor-Swi)"
   ]
  },
  {
   "cell_type": "code",
   "execution_count": 19,
   "metadata": {},
   "outputs": [
    {
     "name": "stdout",
     "output_type": "stream",
     "text": [
      "[0.         0.04347826 0.08695652 0.13043478 0.17391304 0.2173913\n",
      " 0.26086957 0.30434783 0.34782609 0.39130435 0.43478261 0.47826087\n",
      " 0.52173913 0.56521739 0.60869565 0.65217391 0.69565217 0.73913043\n",
      " 0.7826087  0.82608696 0.86956522 0.91304348 0.95652174 1.        ]\n"
     ]
    }
   ],
   "source": [
    "print(swd)"
   ]
  },
  {
   "cell_type": "code",
   "execution_count": 20,
   "metadata": {},
   "outputs": [],
   "source": [
    "kro=(1-swd)**2.56"
   ]
  },
  {
   "cell_type": "code",
   "execution_count": 21,
   "metadata": {},
   "outputs": [
    {
     "name": "stdout",
     "output_type": "stream",
     "text": [
      "[1.00000000e+00 8.92439538e-01 7.92242496e-01 6.99219495e-01\n",
      " 6.13177144e-01 5.33917742e-01 4.61238954e-01 3.94933428e-01\n",
      " 3.34788370e-01 2.80585039e-01 2.32098173e-01 1.89095298e-01\n",
      " 1.51335917e-01 1.18570524e-01 9.05393900e-02 6.69710498e-02\n",
      " 4.75803598e-02 3.20659374e-02 2.01066608e-02 1.13566520e-02\n",
      " 5.43759868e-03 1.92581040e-03 3.26570341e-04 0.00000000e+00]\n"
     ]
    }
   ],
   "source": [
    "print(kro)"
   ]
  },
  {
   "cell_type": "code",
   "execution_count": 22,
   "metadata": {},
   "outputs": [],
   "source": [
    "krw=0.78*((swd)**3.72)"
   ]
  },
  {
   "cell_type": "code",
   "execution_count": 23,
   "metadata": {},
   "outputs": [
    {
     "name": "stdout",
     "output_type": "stream",
     "text": [
      "[0.00000000e+00 6.70605410e-06 8.83687347e-05 3.99354075e-04\n",
      " 1.16447514e-03 2.67076372e-03 5.26247086e-03 9.33752466e-03\n",
      " 1.53448202e-02 2.37820445e-02 3.51938722e-02 5.01704321e-02\n",
      " 6.93459797e-02 9.33977305e-02 1.23044823e-01 1.59047386e-01\n",
      " 2.02205697e-01 2.53359411e-01 3.13386852e-01 3.83204366e-01\n",
      " 4.63765712e-01 5.56061503e-01 6.61118675e-01 7.80000000e-01]\n"
     ]
    }
   ],
   "source": [
    "print(krw)"
   ]
  },
  {
   "cell_type": "code",
   "execution_count": 24,
   "metadata": {},
   "outputs": [
    {
     "name": "stderr",
     "output_type": "stream",
     "text": [
      "<ipython-input-24-4e30f4fd50bd>:1: RuntimeWarning: divide by zero encountered in true_divide\n",
      "  fw=(1)/(1+((kro*uw)/(krw*uo)))\n"
     ]
    }
   ],
   "source": [
    "fw=(1)/(1+((kro*uw)/(krw*uo)))\n",
    "fw[0]=0"
   ]
  },
  {
   "cell_type": "code",
   "execution_count": 25,
   "metadata": {},
   "outputs": [
    {
     "name": "stdout",
     "output_type": "stream",
     "text": [
      "[0.00000000e+00 1.50283645e-05 2.23035310e-04 1.14098197e-03\n",
      " 3.78379726e-03 9.90530483e-03 2.23097652e-02 4.51515148e-02\n",
      " 8.39712364e-02 1.44946565e-01 2.32697591e-01 3.46677013e-01\n",
      " 4.78202168e-01 6.11710112e-01 7.31041056e-01 8.26078956e-01\n",
      " 8.94731797e-01 9.40484698e-01 9.68917497e-01 9.85398358e-01\n",
      " 9.94171726e-01 9.98271341e-01 9.99753078e-01 1.00000000e+00]\n"
     ]
    }
   ],
   "source": [
    "print(fw)"
   ]
  },
  {
   "cell_type": "code",
   "execution_count": 26,
   "metadata": {},
   "outputs": [
    {
     "data": {
      "image/png": "[encoded data removed]",
      "text/plain": [
       "<Figure size 432x288 with 1 Axes>"
      ]
     },
     "metadata": {
      "needs_background": "light"
     },
     "output_type": "display_data"
    }
   ],
   "source": [
    "from matplotlib import pyplot as plt\n",
    "plt.plot(sw,fw)\n",
    "plt.xlabel(\"Sw\")\n",
    "plt.ylabel(\"fw\")\n",
    "plt.show()"
   ]
  },
  {
   "cell_type": "code",
   "execution_count": 27,
   "metadata": {},
   "outputs": [
    {
     "name": "stdout",
     "output_type": "stream",
     "text": [
      "[0.   0.25 0.5  0.75 1.  ]\n",
      "[0.363      0.44619113 0.52938226 0.61257339 0.69576452]\n"
     ]
    }
   ],
   "source": [
    "y=np.linspace(0,1,5)\n",
    "m=-0.65+(fw[16]-fw[15])/(sw[16]-sw[15])\n",
    "x=(y/m)+Swi\n",
    "print(y)\n",
    "print (x)"
   ]
  },
  {
   "cell_type": "code",
   "execution_count": 28,
   "metadata": {},
   "outputs": [
    {
     "data": {
      "image/png": "[encoded data removed]",
      "text/plain": [
       "<Figure size 432x288 with 1 Axes>"
      ]
     },
     "metadata": {
      "needs_background": "light"
     },
     "output_type": "display_data"
    }
   ],
   "source": [
    "from matplotlib import pyplot as plt\n",
    "plt.plot(sw,fw)\n",
    "plt.plot(x,y)\n",
    "plt.xlabel(\"Sw\")\n",
    "plt.ylabel(\"fw\")\n",
    "plt.show()"
   ]
  },
  {
   "cell_type": "code",
   "execution_count": 48,
   "metadata": {},
   "outputs": [
    {
     "data": {
      "text/plain": [
       "0.6635217391304349"
      ]
     },
     "execution_count": 48,
     "metadata": {},
     "output_type": "execute_result"
    }
   ],
   "source": [
    "sw[16]"
   ]
  },
  {
   "cell_type": "code",
   "execution_count": null,
   "metadata": {},
   "outputs": [],
   "source": []
  }
 ],
 "metadata": {
  "kernelspec": {
   "display_name": "Python 3",
   "language": "python",
   "name": "python3"
  },
  "language_info": {
   "codemirror_mode": {
    "name": "ipython",
    "version": 3
   },
   "file_extension": ".py",
   "mimetype": "text/x-python",
   "name": "python",
   "nbconvert_exporter": "python",
   "pygments_lexer": "ipython3",
   "version": "3.8.3"
  }
 },
 "nbformat": 4,
 "nbformat_minor": 4
}
